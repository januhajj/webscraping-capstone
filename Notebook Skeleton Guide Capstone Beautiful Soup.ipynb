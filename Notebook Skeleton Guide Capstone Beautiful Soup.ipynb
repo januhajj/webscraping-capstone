{
 "cells": [
  {
   "cell_type": "markdown",
   "metadata": {},
   "source": [
    "# Capstone Webscrapping using BeautifulSoup\n",
    "\n",
    "This notebook contains guidances & tasks on the data processing for the application\n",
    "\n",
    "Data kurs US Dollar terhadap rupiah\n",
    "\n",
    "\n",
    "## Requesting the Data and Creating a BeautifulSoup\n",
    "\n",
    "Let's begin with requesting the web from the site with `get` method."
   ]
  },
  {
   "cell_type": "code",
   "execution_count": 44,
   "metadata": {},
   "outputs": [],
   "source": [
    "import requests\n",
    "\n",
    "url_get = requests.get('https://www.exchange-rates.org/history/IDR/USD/T')"
   ]
  },
  {
   "cell_type": "markdown",
   "metadata": {},
   "source": [
    "To visualize what exactly you get from the `request.get`, we can use .content so ee what we exactly get, in here i slice it so it won't make our screen full of the html we get from the page. You can delete the slicing if you want to see what we fully get."
   ]
  },
  {
   "cell_type": "code",
   "execution_count": 45,
   "metadata": {
    "ExecuteTime": {
     "end_time": "2020-01-13T05:12:23.290648Z",
     "start_time": "2020-01-13T05:12:23.277650Z"
    },
    "scrolled": true
   },
   "outputs": [
    {
     "data": {
      "text/plain": [
       "b'\\n<!DOCTYPE html>\\r\\n<!--[if lt IE 9]>\\r\\n    <html class=\"no-js ie8 oldie\" lang=\\'en\\' xml:lang=\\'en\\'>\\r\\n<![endif]-->\\r\\n<!--[if gt IE 8]><!--> <html class=\"no-js\" lang=\\'en\\' xml:lang=\\'en\\'> <!--<![endif]-->\\r\\n<head><title>Indonesian Rupiah Exchange Rate - US Dollar - Historical Exchange Rates</title>\\n<meta http-equiv=\"X-UA-Compatible\" content=\"IE=edge\">\\n<meta content=\"C#\" name=\"CODE_LANGUAGE\" />\\n<meta content=\"JavaScript\" name=\"vs_defaultClientScript\" />\\n<meta content=\"http://schemas.microsoft.com/intellisense/ie5\" name=\"vs_targetSchema\" />\\n<meta name=\"viewport\" content=\"width=device-width, initial-scale=1, maximum-scale=5\">\\n<meta http-equiv=\"Content-Type\" content=\"text/html; charset=utf-8\" />\\n\\n<meta name=\"mapping\" content=\"AP\" />\\n<base href=\"https://www.exchange-rates.org/\" />'"
      ]
     },
     "execution_count": 45,
     "metadata": {},
     "output_type": "execute_result"
    }
   ],
   "source": [
    "url_get.content[1:777]"
   ]
  },
  {
   "cell_type": "markdown",
   "metadata": {},
   "source": [
    "As we can see we get a very unstructured and complex html, which actually contains the codes needed to show the webpages on your web browser. But we as human still confused what and where we can use that piece of code, so here where we use the beautifulsoup. Beautiful soup class will result a beautifulsoup object. Beautiful Soup transforms a complex HTML document into a complex tree of Python objects. \n",
    "\n",
    "Let's make Beautiful soup object and feel free to explore the object here."
   ]
  },
  {
   "cell_type": "code",
   "execution_count": 46,
   "metadata": {
    "ExecuteTime": {
     "end_time": "2020-01-13T05:12:23.808122Z",
     "start_time": "2020-01-13T05:12:23.292610Z"
    }
   },
   "outputs": [
    {
     "name": "stdout",
     "output_type": "stream",
     "text": [
      "<class 'bs4.BeautifulSoup'>\n"
     ]
    }
   ],
   "source": [
    "from bs4 import BeautifulSoup \n",
    "\n",
    "soup = BeautifulSoup(url_get.content,\"html.parser\")\n",
    "print(type(soup))"
   ]
  },
  {
   "cell_type": "markdown",
   "metadata": {},
   "source": [
    "## Finding the right key to scrap the data & Extracting the right information"
   ]
  },
  {
   "cell_type": "markdown",
   "metadata": {},
   "source": [
    "Find the key and put the key into the `.find()` Put all the exploring the right key at this cell. (please change this markdown with your explanation)"
   ]
  },
  {
   "cell_type": "code",
   "execution_count": 75,
   "metadata": {
    "ExecuteTime": {
     "end_time": "2020-01-13T05:12:23.878904Z",
     "start_time": "2020-01-13T05:12:23.854974Z"
    },
    "scrolled": false
   },
   "outputs": [
    {
     "name": "stdout",
     "output_type": "stream",
     "text": [
      "table class=\"table table-striped table-hover table-hover-solid-row table-simple history-data\">\n",
      " <tbody>\n",
      "  <tr>\n",
      "   <td>\n",
      "    3/5/2021\n",
      "   </td>\n",
      "   <td>\n",
      "    Friday\n",
      "   </td>\n",
      "   <td>\n",
      "    <a href=\"/Rate/USD/IDR/3-5-2021\">\n",
      "     14,292.17893\n",
      "    </a>\n",
      "    IDR\n",
      "   </td>\n",
      "   <td class=\"text-narrow-screen-hidden\">\n",
      "    <a href=\"/Rate/USD/IDR/3-5-2021\">\n",
      "     USD IDR rate for 3/5/2021\n",
      "    </a>\n",
      "   </td>\n",
      "  </tr>\n",
      "  <tr>\n",
      "   <td>\n",
      "    3/4/2021\n",
      "   </td>\n",
      "   <td>\n",
      "    Thursday\n",
      "   </td>\n",
      "   <td>\n",
      "    <a href=\"/Rate/USD/IDR/3-4-2021\">\n",
      "     14,261.85426\n",
      "    </a>\n",
      "    IDR\n",
      "   </td>\n",
      "   <td class=\"text-narrow-screen-hidden\">\n",
      "    <a href=\"/Rate/USD/IDR/3-4-2021\">\n",
      "     USD IDR rate for 3/4/2021\n",
      "    </a>\n",
      "   </td>\n",
      "  </tr>\n",
      "  <tr>\n",
      "   <td>\n",
      "    3/3/2021\n",
      "   </td>\n",
      "   <td>\n",
      "    Wednesday\n",
      "   </td>\n",
      "   <td>\n",
      "    <a href=\"/Rate/USD/IDR/3-3-2021\">\n",
      "     14,257.29443\n",
      "    </a>\n",
      "    IDR\n",
      "   </td>\n",
      "   <td class=\"text-narrow-screen-hidden\">\n",
      "    <a href=\"/Rate/USD/IDR/3-3-2021\">\n",
      "     USD IDR rate for 3/3/2021\n",
      "    </a>\n",
      "   </td>\n",
      "  </tr>\n",
      "  <tr>\n",
      "   <td>\n",
      "    3/2/2021\n",
      "   </td>\n",
      "   <td>\n",
      "    Tuesday\n",
      "   </td>\n",
      "   <td>\n",
      "    <a href=\"/Rate/USD/IDR/3-2-2021\">\n",
      "     14,256.28041\n",
      "    </a>\n",
      "    IDR\n",
      "   </td>\n",
      "   <td class=\"text-narrow-screen-hidden\">\n",
      "    <a href=\"/Rate/USD/IDR/3-2-2021\">\n",
      "     USD IDR rate for 3/2/2021\n",
      "    </a>\n",
      "   </td>\n",
      "  </tr>\n",
      "  <tr>\n",
      "   <td>\n",
      "    3/1/2021\n",
      "   </td>\n",
      "   <td>\n",
      "    Monday\n",
      "   </td>\n",
      "   <td>\n",
      "    <a href=\"/Rate/USD/IDR/3-1-2021\">\n",
      "     14,248.60576\n",
      "    </a>\n",
      "    IDR\n",
      "   </td>\n",
      "   <td class=\"text-narrow-screen-hidden\">\n",
      "    <a href=\"/Rate/USD/I\n"
     ]
    }
   ],
   "source": [
    "tbody = soup.find('table', attrs={'class':'table table-striped table-hover table-hover-solid-row table-simple history-data'})\n",
    "print(table.prettify()[1:1500])"
   ]
  },
  {
   "cell_type": "code",
   "execution_count": 76,
   "metadata": {
    "scrolled": true
   },
   "outputs": [
    {
     "data": {
      "text/plain": [
       "[<tr><td>3/5/2021</td><td>Friday</td><td><a href=\"/Rate/USD/IDR/3-5-2021\">14,292.17893</a> IDR</td><td class=\"text-narrow-screen-hidden\"><a href=\"/Rate/USD/IDR/3-5-2021\">USD IDR rate for 3/5/2021</a></td></tr>,\n",
       " <tr><td>3/4/2021</td><td>Thursday</td><td><a href=\"/Rate/USD/IDR/3-4-2021\">14,261.85426</a> IDR</td><td class=\"text-narrow-screen-hidden\"><a href=\"/Rate/USD/IDR/3-4-2021\">USD IDR rate for 3/4/2021</a></td></tr>,\n",
       " <tr><td>3/3/2021</td><td>Wednesday</td><td><a href=\"/Rate/USD/IDR/3-3-2021\">14,257.29443</a> IDR</td><td class=\"text-narrow-screen-hidden\"><a href=\"/Rate/USD/IDR/3-3-2021\">USD IDR rate for 3/3/2021</a></td></tr>,\n",
       " <tr><td>3/2/2021</td><td>Tuesday</td><td><a href=\"/Rate/USD/IDR/3-2-2021\">14,256.28041</a> IDR</td><td class=\"text-narrow-screen-hidden\"><a href=\"/Rate/USD/IDR/3-2-2021\">USD IDR rate for 3/2/2021</a></td></tr>,\n",
       " <tr><td>3/1/2021</td><td>Monday</td><td><a href=\"/Rate/USD/IDR/3-1-2021\">14,248.60576</a> IDR</td><td class=\"text-narrow-screen-hidden\"><a href=\"/Rate/USD/IDR/3-1-2021\">USD IDR rate for 3/1/2021</a></td></tr>,\n",
       " <tr><td>2/26/2021</td><td>Friday</td><td><a href=\"/Rate/USD/IDR/2-26-2021\">14,300.27815</a> IDR</td><td class=\"text-narrow-screen-hidden\"><a href=\"/Rate/USD/IDR/2-26-2021\">USD IDR rate for 2/26/2021</a></td></tr>,\n",
       " <tr><td>2/25/2021</td><td>Thursday</td><td><a href=\"/Rate/USD/IDR/2-25-2021\">14,139.73096</a> IDR</td><td class=\"text-narrow-screen-hidden\"><a href=\"/Rate/USD/IDR/2-25-2021\">USD IDR rate for 2/25/2021</a></td></tr>,\n",
       " <tr><td>2/24/2021</td><td>Wednesday</td><td><a href=\"/Rate/USD/IDR/2-24-2021\">14,083.03673</a> IDR</td><td class=\"text-narrow-screen-hidden\"><a href=\"/Rate/USD/IDR/2-24-2021\">USD IDR rate for 2/24/2021</a></td></tr>,\n",
       " <tr><td>2/23/2021</td><td>Tuesday</td><td><a href=\"/Rate/USD/IDR/2-23-2021\">14,092.64503</a> IDR</td><td class=\"text-narrow-screen-hidden\"><a href=\"/Rate/USD/IDR/2-23-2021\">USD IDR rate for 2/23/2021</a></td></tr>,\n",
       " <tr><td>2/22/2021</td><td>Monday</td><td><a href=\"/Rate/USD/IDR/2-22-2021\">14,118.07274</a> IDR</td><td class=\"text-narrow-screen-hidden\"><a href=\"/Rate/USD/IDR/2-22-2021\">USD IDR rate for 2/22/2021</a></td></tr>]"
      ]
     },
     "execution_count": 76,
     "metadata": {},
     "output_type": "execute_result"
    }
   ],
   "source": [
    "tr = tbody.find_all('tr')\n",
    "tr[:10]"
   ]
  },
  {
   "cell_type": "code",
   "execution_count": 77,
   "metadata": {
    "scrolled": true
   },
   "outputs": [
    {
     "data": {
      "text/plain": [
       "[<td>3/5/2021</td>,\n",
       " <td>Friday</td>,\n",
       " <td><a href=\"/Rate/USD/IDR/3-5-2021\">14,292.17893</a> IDR</td>,\n",
       " <td class=\"text-narrow-screen-hidden\"><a href=\"/Rate/USD/IDR/3-5-2021\">USD IDR rate for 3/5/2021</a></td>,\n",
       " <td>3/4/2021</td>,\n",
       " <td>Thursday</td>,\n",
       " <td><a href=\"/Rate/USD/IDR/3-4-2021\">14,261.85426</a> IDR</td>,\n",
       " <td class=\"text-narrow-screen-hidden\"><a href=\"/Rate/USD/IDR/3-4-2021\">USD IDR rate for 3/4/2021</a></td>,\n",
       " <td>3/3/2021</td>,\n",
       " <td>Wednesday</td>]"
      ]
     },
     "execution_count": 77,
     "metadata": {},
     "output_type": "execute_result"
    }
   ],
   "source": [
    "td = tbody.find_all('td')\n",
    "td[:10]"
   ]
  },
  {
   "cell_type": "markdown",
   "metadata": {},
   "source": [
    "Do the scrapping process here (please change this markdown with your explanation)"
   ]
  },
  {
   "cell_type": "code",
   "execution_count": 91,
   "metadata": {
    "ExecuteTime": {
     "end_time": "2020-01-13T05:12:24.008256Z",
     "start_time": "2020-01-13T05:12:23.980358Z"
    },
    "scrolled": false
   },
   "outputs": [
    {
     "data": {
      "text/plain": [
       "[('3/4/2021', '14,261.85426 IDR'),\n",
       " ('3/3/2021', '14,257.29443 IDR'),\n",
       " ('3/2/2021', '14,256.28041 IDR'),\n",
       " ('3/1/2021', '14,248.60576 IDR'),\n",
       " ('2/26/2021', '14,300.27815 IDR'),\n",
       " ('2/25/2021', '14,139.73096 IDR'),\n",
       " ('2/24/2021', '14,083.03673 IDR'),\n",
       " ('2/23/2021', '14,092.64503 IDR'),\n",
       " ('2/22/2021', '14,118.07274 IDR'),\n",
       " ('2/19/2021', '14,066.79375 IDR'),\n",
       " ('2/18/2021', '14,013.51318 IDR'),\n",
       " ('2/18/2021', '14,013.51318 IDR'),\n",
       " ('2/17/2021', '14,015.16095 IDR'),\n",
       " ('2/16/2021', '13,935.96629 IDR'),\n",
       " ('2/15/2021', '13,918.18725 IDR'),\n",
       " ('2/12/2021', '13,988.54710 IDR'),\n",
       " ('2/11/2021', '13,982.27900 IDR'),\n",
       " ('2/10/2021', '13,994.09212 IDR'),\n",
       " ('2/9/2021', '13,920.52018 IDR'),\n",
       " ('2/8/2021', '14,007.25257 IDR'),\n",
       " ('2/5/2021', '14,008.99630 IDR'),\n",
       " ('2/4/2021', '14,020.87878 IDR'),\n",
       " ('2/3/2021', '13,997.60682 IDR'),\n",
       " ('2/2/2021', '14,004.60175 IDR'),\n",
       " ('2/1/2021', '14,025.27450 IDR'),\n",
       " ('1/29/2021', '14,027.32457 IDR'),\n",
       " ('1/28/2021', '14,048.06146 IDR'),\n",
       " ('1/27/2021', '14,048.72649 IDR'),\n",
       " ('1/26/2021', '14,062.91108 IDR'),\n",
       " ('1/25/2021', '14,021.11609 IDR'),\n",
       " ('1/22/2021', '14,025.60268 IDR'),\n",
       " ('1/21/2021', '13,964.91920 IDR'),\n",
       " ('1/20/2021', '14,021.43046 IDR'),\n",
       " ('1/19/2021', '14,063.60877 IDR'),\n",
       " ('1/18/2021', '14,055.43768 IDR'),\n",
       " ('1/18/2021', '14,055.43768 IDR'),\n",
       " ('1/15/2021', '14,153.46654 IDR'),\n",
       " ('1/14/2021', '14,070.58746 IDR'),\n",
       " ('1/13/2021', '14,125.90174 IDR'),\n",
       " ('1/12/2021', '14,074.81444 IDR'),\n",
       " ('1/11/2021', '14,137.24151 IDR'),\n",
       " ('1/8/2021', '13,991.16348 IDR'),\n",
       " ('1/7/2021', '13,905.64377 IDR'),\n",
       " ('1/6/2021', '13,861.51463 IDR'),\n",
       " ('1/5/2021', '13,906.05686 IDR'),\n",
       " ('1/4/2021', '14,015.86887 IDR'),\n",
       " ('1/1/2021', '14,213.67526 IDR'),\n",
       " ('12/31/2020', '14,120.57461 IDR'),\n",
       " ('12/30/2020', '14,020.01350 IDR'),\n",
       " ('12/29/2020', '14,108.18177 IDR'),\n",
       " ('12/28/2020', '14,139.81753 IDR'),\n",
       " ('12/25/2020', '14,211.65343 IDR'),\n",
       " ('12/24/2020', '14,188.41293 IDR'),\n",
       " ('12/23/2020', '14,183.64082 IDR'),\n",
       " ('12/22/2020', '14,164.98134 IDR'),\n",
       " ('12/21/2020', '14,124.20148 IDR'),\n",
       " ('12/18/2020', '14,101.05758 IDR'),\n",
       " ('12/17/2020', '14,101.72807 IDR'),\n",
       " ('12/16/2020', '14,084.50704 IDR'),\n",
       " ('12/15/2020', '14,124.19150 IDR'),\n",
       " ('12/14/2020', '14,087.17417 IDR'),\n",
       " ('12/11/2020', '14,076.36739 IDR'),\n",
       " ('12/10/2020', '14,103.70444 IDR'),\n",
       " ('12/9/2020', '14,096.39851 IDR'),\n",
       " ('12/8/2020', '14,105.04229 IDR'),\n",
       " ('12/7/2020', '14,103.58039 IDR'),\n",
       " ('12/4/2020', '14,092.75807 IDR'),\n",
       " ('12/3/2020', '14,109.15139 IDR'),\n",
       " ('12/2/2020', '14,094.65785 IDR'),\n",
       " ('12/1/2020', '14,118.51435 IDR'),\n",
       " ('11/30/2020', '14,114.11663 IDR'),\n",
       " ('11/27/2020', '14,078.12448 IDR'),\n",
       " ('11/26/2020', '14,090.70769 IDR'),\n",
       " ('11/25/2020', '14,136.09929 IDR'),\n",
       " ('11/24/2020', '14,137.48161 IDR'),\n",
       " ('11/23/2020', '14,185.57119 IDR'),\n",
       " ('11/20/2020', '14,162.60519 IDR'),\n",
       " ('11/19/2020', '14,165.50144 IDR'),\n",
       " ('11/18/2020', '14,051.29503 IDR'),\n",
       " ('11/17/2020', '14,040.16051 IDR'),\n",
       " ('11/16/2020', '14,085.69501 IDR'),\n",
       " ('11/13/2020', '14,142.77143 IDR'),\n",
       " ('11/12/2020', '14,141.24303 IDR'),\n",
       " ('11/11/2020', '14,073.46024 IDR'),\n",
       " ('11/10/2020', '14,053.76135 IDR'),\n",
       " ('11/9/2020', '14,283.29667 IDR'),\n",
       " ('11/6/2020', '14,214.49744 IDR'),\n",
       " ('11/5/2020', '14,389.14027 IDR'),\n",
       " ('11/4/2020', '14,544.44634 IDR'),\n",
       " ('11/3/2020', '14,589.01774 IDR'),\n",
       " ('11/2/2020', '14,612.89990 IDR'),\n",
       " ('10/30/2020', '14,629.16216 IDR'),\n",
       " ('10/29/2020', '14,701.62361 IDR'),\n",
       " ('10/28/2020', '14,701.92586 IDR'),\n",
       " ('10/27/2020', '14,649.78960 IDR'),\n",
       " ('10/26/2020', '14,652.88010 IDR'),\n",
       " ('10/23/2020', '14,655.04157 IDR'),\n",
       " ('10/22/2020', '14,647.90877 IDR'),\n",
       " ('10/21/2020', '14,641.61060 IDR'),\n",
       " ('10/20/2020', '14,555.88071 IDR'),\n",
       " ('10/19/2020', '14,705.13256 IDR'),\n",
       " ('10/16/2020', '14,688.43616 IDR'),\n",
       " ('10/15/2020', '14,667.95340 IDR'),\n",
       " ('10/14/2020', '14,696.21912 IDR'),\n",
       " ('10/13/2020', '14,687.35100 IDR'),\n",
       " ('10/12/2020', '14,677.85296 IDR'),\n",
       " ('10/9/2020', '14,679.27910 IDR'),\n",
       " ('10/8/2020', '14,692.93025 IDR'),\n",
       " ('10/7/2020', '14,705.58246 IDR'),\n",
       " ('10/6/2020', '14,857.67854 IDR'),\n",
       " ('10/5/2020', '14,797.90178 IDR'),\n",
       " ('10/2/2020', '14,852.30483 IDR'),\n",
       " ('10/1/2020', '14,822.66605 IDR'),\n",
       " ('9/30/2020', '14,867.44686 IDR'),\n",
       " ('9/29/2020', '14,880.93210 IDR'),\n",
       " ('9/28/2020', '14,892.32194 IDR'),\n",
       " ('9/27/2020', '14,859.98349 IDR'),\n",
       " ('9/25/2020', '14,855.63943 IDR'),\n",
       " ('9/24/2020', '14,888.78607 IDR'),\n",
       " ('9/23/2020', '14,825.54899 IDR'),\n",
       " ('9/22/2020', '14,751.85786 IDR'),\n",
       " ('9/21/2020', '14,701.43420 IDR'),\n",
       " ('9/20/2020', '14,728.84529 IDR'),\n",
       " ('9/18/2020', '14,730.71792 IDR'),\n",
       " ('9/17/2020', '14,829.41738 IDR'),\n",
       " ('9/16/2020', '14,807.88761 IDR'),\n",
       " ('9/15/2020', '14,843.44670 IDR'),\n",
       " ('9/14/2020', '14,864.65988 IDR'),\n",
       " ('9/13/2020', '14,876.45021 IDR'),\n",
       " ('9/11/2020', '14,865.27553 IDR'),\n",
       " ('9/10/2020', '14,871.58664 IDR'),\n",
       " ('9/9/2020', '14,783.50009 IDR'),\n",
       " ('9/8/2020', '14,839.54267 IDR'),\n",
       " ('9/7/2020', '14,743.92989 IDR'),\n",
       " ('9/6/2020', '14,754.95155 IDR')]"
      ]
     },
     "execution_count": 91,
     "metadata": {},
     "output_type": "execute_result"
    }
   ],
   "source": [
    "temp = [] #initiating a tuple\n",
    "        \n",
    "for i in range(1, len(tr)):\n",
    "    \n",
    "    row = tbody.find_all('tr')[i]\n",
    "    if len(row) == 4:\n",
    "\n",
    "        #get date\n",
    "        date = row.find_all('td')[0].text\n",
    "        date = date.strip() #for removing the excess whitespace\n",
    "\n",
    "        #get day\n",
    "        day = row.find_all('td')[1].text\n",
    "        day = day.strip() #for removing the excess whitespace\n",
    "   \n",
    "        #get value\n",
    "        kurs = row.find_all('td')[2].text\n",
    "        kurs = kurs.strip() #for removing the excess whitespace\n",
    "    \n",
    "        #get note\n",
    "        note = row.find_all('td')[3].text\n",
    "        note = note.strip() #for removing the excess whitespace\n",
    " \n",
    "    temp.append((date,kurs)) \n",
    "    \n",
    "temp"
   ]
  },
  {
   "cell_type": "code",
   "execution_count": 85,
   "metadata": {
    "scrolled": true
   },
   "outputs": [
    {
     "data": {
      "text/plain": [
       "[('9/6/2020', '14,754.95155 IDR'),\n",
       " ('9/7/2020', '14,743.92989 IDR'),\n",
       " ('9/8/2020', '14,839.54267 IDR'),\n",
       " ('9/9/2020', '14,783.50009 IDR'),\n",
       " ('9/10/2020', '14,871.58664 IDR'),\n",
       " ('9/11/2020', '14,865.27553 IDR'),\n",
       " ('9/13/2020', '14,876.45021 IDR'),\n",
       " ('9/14/2020', '14,864.65988 IDR'),\n",
       " ('9/15/2020', '14,843.44670 IDR'),\n",
       " ('9/16/2020', '14,807.88761 IDR'),\n",
       " ('9/17/2020', '14,829.41738 IDR'),\n",
       " ('9/18/2020', '14,730.71792 IDR'),\n",
       " ('9/20/2020', '14,728.84529 IDR'),\n",
       " ('9/21/2020', '14,701.43420 IDR'),\n",
       " ('9/22/2020', '14,751.85786 IDR'),\n",
       " ('9/23/2020', '14,825.54899 IDR'),\n",
       " ('9/24/2020', '14,888.78607 IDR'),\n",
       " ('9/25/2020', '14,855.63943 IDR'),\n",
       " ('9/27/2020', '14,859.98349 IDR'),\n",
       " ('9/28/2020', '14,892.32194 IDR'),\n",
       " ('9/29/2020', '14,880.93210 IDR'),\n",
       " ('9/30/2020', '14,867.44686 IDR'),\n",
       " ('10/1/2020', '14,822.66605 IDR'),\n",
       " ('10/2/2020', '14,852.30483 IDR'),\n",
       " ('10/5/2020', '14,797.90178 IDR'),\n",
       " ('10/6/2020', '14,857.67854 IDR'),\n",
       " ('10/7/2020', '14,705.58246 IDR'),\n",
       " ('10/8/2020', '14,692.93025 IDR'),\n",
       " ('10/9/2020', '14,679.27910 IDR'),\n",
       " ('10/12/2020', '14,677.85296 IDR'),\n",
       " ('10/13/2020', '14,687.35100 IDR'),\n",
       " ('10/14/2020', '14,696.21912 IDR'),\n",
       " ('10/15/2020', '14,667.95340 IDR'),\n",
       " ('10/16/2020', '14,688.43616 IDR'),\n",
       " ('10/19/2020', '14,705.13256 IDR'),\n",
       " ('10/20/2020', '14,555.88071 IDR'),\n",
       " ('10/21/2020', '14,641.61060 IDR'),\n",
       " ('10/22/2020', '14,647.90877 IDR'),\n",
       " ('10/23/2020', '14,655.04157 IDR'),\n",
       " ('10/26/2020', '14,652.88010 IDR'),\n",
       " ('10/27/2020', '14,649.78960 IDR'),\n",
       " ('10/28/2020', '14,701.92586 IDR'),\n",
       " ('10/29/2020', '14,701.62361 IDR'),\n",
       " ('10/30/2020', '14,629.16216 IDR'),\n",
       " ('11/2/2020', '14,612.89990 IDR'),\n",
       " ('11/3/2020', '14,589.01774 IDR'),\n",
       " ('11/4/2020', '14,544.44634 IDR'),\n",
       " ('11/5/2020', '14,389.14027 IDR'),\n",
       " ('11/6/2020', '14,214.49744 IDR'),\n",
       " ('11/9/2020', '14,283.29667 IDR'),\n",
       " ('11/10/2020', '14,053.76135 IDR'),\n",
       " ('11/11/2020', '14,073.46024 IDR'),\n",
       " ('11/12/2020', '14,141.24303 IDR'),\n",
       " ('11/13/2020', '14,142.77143 IDR'),\n",
       " ('11/16/2020', '14,085.69501 IDR'),\n",
       " ('11/17/2020', '14,040.16051 IDR'),\n",
       " ('11/18/2020', '14,051.29503 IDR'),\n",
       " ('11/19/2020', '14,165.50144 IDR'),\n",
       " ('11/20/2020', '14,162.60519 IDR'),\n",
       " ('11/23/2020', '14,185.57119 IDR'),\n",
       " ('11/24/2020', '14,137.48161 IDR'),\n",
       " ('11/25/2020', '14,136.09929 IDR'),\n",
       " ('11/26/2020', '14,090.70769 IDR'),\n",
       " ('11/27/2020', '14,078.12448 IDR'),\n",
       " ('11/30/2020', '14,114.11663 IDR'),\n",
       " ('12/1/2020', '14,118.51435 IDR'),\n",
       " ('12/2/2020', '14,094.65785 IDR'),\n",
       " ('12/3/2020', '14,109.15139 IDR'),\n",
       " ('12/4/2020', '14,092.75807 IDR'),\n",
       " ('12/7/2020', '14,103.58039 IDR'),\n",
       " ('12/8/2020', '14,105.04229 IDR'),\n",
       " ('12/9/2020', '14,096.39851 IDR'),\n",
       " ('12/10/2020', '14,103.70444 IDR'),\n",
       " ('12/11/2020', '14,076.36739 IDR'),\n",
       " ('12/14/2020', '14,087.17417 IDR'),\n",
       " ('12/15/2020', '14,124.19150 IDR'),\n",
       " ('12/16/2020', '14,084.50704 IDR'),\n",
       " ('12/17/2020', '14,101.72807 IDR'),\n",
       " ('12/18/2020', '14,101.05758 IDR'),\n",
       " ('12/21/2020', '14,124.20148 IDR'),\n",
       " ('12/22/2020', '14,164.98134 IDR'),\n",
       " ('12/23/2020', '14,183.64082 IDR'),\n",
       " ('12/24/2020', '14,188.41293 IDR'),\n",
       " ('12/25/2020', '14,211.65343 IDR'),\n",
       " ('12/28/2020', '14,139.81753 IDR'),\n",
       " ('12/29/2020', '14,108.18177 IDR'),\n",
       " ('12/30/2020', '14,020.01350 IDR'),\n",
       " ('12/31/2020', '14,120.57461 IDR'),\n",
       " ('1/1/2021', '14,213.67526 IDR'),\n",
       " ('1/4/2021', '14,015.86887 IDR'),\n",
       " ('1/5/2021', '13,906.05686 IDR'),\n",
       " ('1/6/2021', '13,861.51463 IDR'),\n",
       " ('1/7/2021', '13,905.64377 IDR'),\n",
       " ('1/8/2021', '13,991.16348 IDR'),\n",
       " ('1/11/2021', '14,137.24151 IDR'),\n",
       " ('1/12/2021', '14,074.81444 IDR'),\n",
       " ('1/13/2021', '14,125.90174 IDR'),\n",
       " ('1/14/2021', '14,070.58746 IDR'),\n",
       " ('1/15/2021', '14,153.46654 IDR'),\n",
       " ('1/18/2021', '14,055.43768 IDR'),\n",
       " ('1/18/2021', '14,055.43768 IDR'),\n",
       " ('1/19/2021', '14,063.60877 IDR'),\n",
       " ('1/20/2021', '14,021.43046 IDR'),\n",
       " ('1/21/2021', '13,964.91920 IDR'),\n",
       " ('1/22/2021', '14,025.60268 IDR'),\n",
       " ('1/25/2021', '14,021.11609 IDR'),\n",
       " ('1/26/2021', '14,062.91108 IDR'),\n",
       " ('1/27/2021', '14,048.72649 IDR'),\n",
       " ('1/28/2021', '14,048.06146 IDR'),\n",
       " ('1/29/2021', '14,027.32457 IDR'),\n",
       " ('2/1/2021', '14,025.27450 IDR'),\n",
       " ('2/2/2021', '14,004.60175 IDR'),\n",
       " ('2/3/2021', '13,997.60682 IDR'),\n",
       " ('2/4/2021', '14,020.87878 IDR'),\n",
       " ('2/5/2021', '14,008.99630 IDR'),\n",
       " ('2/8/2021', '14,007.25257 IDR'),\n",
       " ('2/9/2021', '13,920.52018 IDR'),\n",
       " ('2/10/2021', '13,994.09212 IDR'),\n",
       " ('2/11/2021', '13,982.27900 IDR'),\n",
       " ('2/12/2021', '13,988.54710 IDR'),\n",
       " ('2/15/2021', '13,918.18725 IDR'),\n",
       " ('2/16/2021', '13,935.96629 IDR'),\n",
       " ('2/17/2021', '14,015.16095 IDR'),\n",
       " ('2/18/2021', '14,013.51318 IDR'),\n",
       " ('2/18/2021', '14,013.51318 IDR'),\n",
       " ('2/19/2021', '14,066.79375 IDR'),\n",
       " ('2/22/2021', '14,118.07274 IDR'),\n",
       " ('2/23/2021', '14,092.64503 IDR'),\n",
       " ('2/24/2021', '14,083.03673 IDR'),\n",
       " ('2/25/2021', '14,139.73096 IDR'),\n",
       " ('2/26/2021', '14,300.27815 IDR'),\n",
       " ('3/1/2021', '14,248.60576 IDR'),\n",
       " ('3/2/2021', '14,256.28041 IDR'),\n",
       " ('3/3/2021', '14,257.29443 IDR'),\n",
       " ('3/4/2021', '14,261.85426 IDR')]"
      ]
     },
     "execution_count": 85,
     "metadata": {},
     "output_type": "execute_result"
    }
   ],
   "source": [
    "temp = temp[::-1]\n",
    "temp"
   ]
  },
  {
   "cell_type": "markdown",
   "metadata": {},
   "source": [
    "## Creating data frame & Data wrangling"
   ]
  },
  {
   "cell_type": "markdown",
   "metadata": {},
   "source": [
    "Put the array into dataframe"
   ]
  },
  {
   "cell_type": "code",
   "execution_count": 108,
   "metadata": {
    "ExecuteTime": {
     "end_time": "2020-01-13T05:12:41.517372Z",
     "start_time": "2020-01-13T05:12:29.130015Z"
    },
    "scrolled": true
   },
   "outputs": [
    {
     "data": {
      "text/html": [
       "<div>\n",
       "<style scoped>\n",
       "    .dataframe tbody tr th:only-of-type {\n",
       "        vertical-align: middle;\n",
       "    }\n",
       "\n",
       "    .dataframe tbody tr th {\n",
       "        vertical-align: top;\n",
       "    }\n",
       "\n",
       "    .dataframe thead th {\n",
       "        text-align: right;\n",
       "    }\n",
       "</style>\n",
       "<table border=\"1\" class=\"dataframe\">\n",
       "  <thead>\n",
       "    <tr style=\"text-align: right;\">\n",
       "      <th></th>\n",
       "      <th>date</th>\n",
       "      <th>kurs</th>\n",
       "    </tr>\n",
       "  </thead>\n",
       "  <tbody>\n",
       "    <tr>\n",
       "      <th>130</th>\n",
       "      <td>9/10/2020</td>\n",
       "      <td>14,871.58664 IDR</td>\n",
       "    </tr>\n",
       "    <tr>\n",
       "      <th>131</th>\n",
       "      <td>9/9/2020</td>\n",
       "      <td>14,783.50009 IDR</td>\n",
       "    </tr>\n",
       "    <tr>\n",
       "      <th>132</th>\n",
       "      <td>9/8/2020</td>\n",
       "      <td>14,839.54267 IDR</td>\n",
       "    </tr>\n",
       "    <tr>\n",
       "      <th>133</th>\n",
       "      <td>9/7/2020</td>\n",
       "      <td>14,743.92989 IDR</td>\n",
       "    </tr>\n",
       "    <tr>\n",
       "      <th>134</th>\n",
       "      <td>9/6/2020</td>\n",
       "      <td>14,754.95155 IDR</td>\n",
       "    </tr>\n",
       "  </tbody>\n",
       "</table>\n",
       "</div>"
      ],
      "text/plain": [
       "          date              kurs\n",
       "130  9/10/2020  14,871.58664 IDR\n",
       "131   9/9/2020  14,783.50009 IDR\n",
       "132   9/8/2020  14,839.54267 IDR\n",
       "133   9/7/2020  14,743.92989 IDR\n",
       "134   9/6/2020  14,754.95155 IDR"
      ]
     },
     "execution_count": 108,
     "metadata": {},
     "output_type": "execute_result"
    }
   ],
   "source": [
    "import pandas as pd\n",
    "\n",
    "data = pd.DataFrame(temp, columns = ('date','kurs'))\n",
    "data.tail()"
   ]
  },
  {
   "cell_type": "markdown",
   "metadata": {},
   "source": [
    "Do the data cleaning here (please change this markdown with your explanation of what you do for data wrangling)"
   ]
  },
  {
   "cell_type": "code",
   "execution_count": 109,
   "metadata": {
    "ExecuteTime": {
     "end_time": "2020-01-13T05:12:59.165559Z",
     "start_time": "2020-01-13T05:12:58.910012Z"
    },
    "scrolled": true
   },
   "outputs": [],
   "source": [
    "data['date'] = data['date'].astype('datetime64') #merubah date dari object menjadi datetime\n",
    "data['kurs'] = data['kurs'].str.replace(\" IDR\",\"\") #menghilangkan spasi dan IDR\n",
    "data['kurs'] = data['kurs'].str.replace(\",\",\"\") #menghilangkan koma\n",
    "data['kurs'] = data['kurs'].astype('float64').round(2)  #merubah idr dari object menjadi float64\n",
    "data['day']=data['date'].dt.day_name() #merubah day mejadi nama hari untuk analisa tambahan"
   ]
  },
  {
   "cell_type": "code",
   "execution_count": 110,
   "metadata": {
    "scrolled": false
   },
   "outputs": [
    {
     "data": {
      "text/html": [
       "<div>\n",
       "<style scoped>\n",
       "    .dataframe tbody tr th:only-of-type {\n",
       "        vertical-align: middle;\n",
       "    }\n",
       "\n",
       "    .dataframe tbody tr th {\n",
       "        vertical-align: top;\n",
       "    }\n",
       "\n",
       "    .dataframe thead th {\n",
       "        text-align: right;\n",
       "    }\n",
       "</style>\n",
       "<table border=\"1\" class=\"dataframe\">\n",
       "  <thead>\n",
       "    <tr style=\"text-align: right;\">\n",
       "      <th></th>\n",
       "      <th>date</th>\n",
       "      <th>kurs</th>\n",
       "      <th>day</th>\n",
       "    </tr>\n",
       "  </thead>\n",
       "  <tbody>\n",
       "    <tr>\n",
       "      <th>0</th>\n",
       "      <td>2021-03-04</td>\n",
       "      <td>14261.85</td>\n",
       "      <td>Thursday</td>\n",
       "    </tr>\n",
       "    <tr>\n",
       "      <th>1</th>\n",
       "      <td>2021-03-03</td>\n",
       "      <td>14257.29</td>\n",
       "      <td>Wednesday</td>\n",
       "    </tr>\n",
       "    <tr>\n",
       "      <th>2</th>\n",
       "      <td>2021-03-02</td>\n",
       "      <td>14256.28</td>\n",
       "      <td>Tuesday</td>\n",
       "    </tr>\n",
       "    <tr>\n",
       "      <th>3</th>\n",
       "      <td>2021-03-01</td>\n",
       "      <td>14248.61</td>\n",
       "      <td>Monday</td>\n",
       "    </tr>\n",
       "    <tr>\n",
       "      <th>4</th>\n",
       "      <td>2021-02-26</td>\n",
       "      <td>14300.28</td>\n",
       "      <td>Friday</td>\n",
       "    </tr>\n",
       "    <tr>\n",
       "      <th>...</th>\n",
       "      <td>...</td>\n",
       "      <td>...</td>\n",
       "      <td>...</td>\n",
       "    </tr>\n",
       "    <tr>\n",
       "      <th>130</th>\n",
       "      <td>2020-09-10</td>\n",
       "      <td>14871.59</td>\n",
       "      <td>Thursday</td>\n",
       "    </tr>\n",
       "    <tr>\n",
       "      <th>131</th>\n",
       "      <td>2020-09-09</td>\n",
       "      <td>14783.50</td>\n",
       "      <td>Wednesday</td>\n",
       "    </tr>\n",
       "    <tr>\n",
       "      <th>132</th>\n",
       "      <td>2020-09-08</td>\n",
       "      <td>14839.54</td>\n",
       "      <td>Tuesday</td>\n",
       "    </tr>\n",
       "    <tr>\n",
       "      <th>133</th>\n",
       "      <td>2020-09-07</td>\n",
       "      <td>14743.93</td>\n",
       "      <td>Monday</td>\n",
       "    </tr>\n",
       "    <tr>\n",
       "      <th>134</th>\n",
       "      <td>2020-09-06</td>\n",
       "      <td>14754.95</td>\n",
       "      <td>Sunday</td>\n",
       "    </tr>\n",
       "  </tbody>\n",
       "</table>\n",
       "<p>135 rows × 3 columns</p>\n",
       "</div>"
      ],
      "text/plain": [
       "          date      kurs        day\n",
       "0   2021-03-04  14261.85   Thursday\n",
       "1   2021-03-03  14257.29  Wednesday\n",
       "2   2021-03-02  14256.28    Tuesday\n",
       "3   2021-03-01  14248.61     Monday\n",
       "4   2021-02-26  14300.28     Friday\n",
       "..         ...       ...        ...\n",
       "130 2020-09-10  14871.59   Thursday\n",
       "131 2020-09-09  14783.50  Wednesday\n",
       "132 2020-09-08  14839.54    Tuesday\n",
       "133 2020-09-07  14743.93     Monday\n",
       "134 2020-09-06  14754.95     Sunday\n",
       "\n",
       "[135 rows x 3 columns]"
      ]
     },
     "execution_count": 110,
     "metadata": {},
     "output_type": "execute_result"
    }
   ],
   "source": [
    "data"
   ]
  },
  {
   "cell_type": "markdown",
   "metadata": {},
   "source": [
    "dibawah ini percobaan"
   ]
  },
  {
   "cell_type": "code",
   "execution_count": 111,
   "metadata": {
    "scrolled": true
   },
   "outputs": [
    {
     "data": {
      "text/html": [
       "<div>\n",
       "<style scoped>\n",
       "    .dataframe tbody tr th:only-of-type {\n",
       "        vertical-align: middle;\n",
       "    }\n",
       "\n",
       "    .dataframe tbody tr th {\n",
       "        vertical-align: top;\n",
       "    }\n",
       "\n",
       "    .dataframe thead th {\n",
       "        text-align: right;\n",
       "    }\n",
       "</style>\n",
       "<table border=\"1\" class=\"dataframe\">\n",
       "  <thead>\n",
       "    <tr style=\"text-align: right;\">\n",
       "      <th></th>\n",
       "      <th>date</th>\n",
       "      <th>kurs</th>\n",
       "      <th>day</th>\n",
       "    </tr>\n",
       "  </thead>\n",
       "  <tbody>\n",
       "    <tr>\n",
       "      <th>4</th>\n",
       "      <td>2021-02-26</td>\n",
       "      <td>14300.28</td>\n",
       "      <td>Friday</td>\n",
       "    </tr>\n",
       "    <tr>\n",
       "      <th>5</th>\n",
       "      <td>2021-02-25</td>\n",
       "      <td>14139.73</td>\n",
       "      <td>Thursday</td>\n",
       "    </tr>\n",
       "    <tr>\n",
       "      <th>6</th>\n",
       "      <td>2021-02-24</td>\n",
       "      <td>14083.04</td>\n",
       "      <td>Wednesday</td>\n",
       "    </tr>\n",
       "    <tr>\n",
       "      <th>7</th>\n",
       "      <td>2021-02-23</td>\n",
       "      <td>14092.65</td>\n",
       "      <td>Tuesday</td>\n",
       "    </tr>\n",
       "    <tr>\n",
       "      <th>8</th>\n",
       "      <td>2021-02-22</td>\n",
       "      <td>14118.07</td>\n",
       "      <td>Monday</td>\n",
       "    </tr>\n",
       "    <tr>\n",
       "      <th>9</th>\n",
       "      <td>2021-02-19</td>\n",
       "      <td>14066.79</td>\n",
       "      <td>Friday</td>\n",
       "    </tr>\n",
       "    <tr>\n",
       "      <th>10</th>\n",
       "      <td>2021-02-18</td>\n",
       "      <td>14013.51</td>\n",
       "      <td>Thursday</td>\n",
       "    </tr>\n",
       "    <tr>\n",
       "      <th>11</th>\n",
       "      <td>2021-02-18</td>\n",
       "      <td>14013.51</td>\n",
       "      <td>Thursday</td>\n",
       "    </tr>\n",
       "  </tbody>\n",
       "</table>\n",
       "</div>"
      ],
      "text/plain": [
       "         date      kurs        day\n",
       "4  2021-02-26  14300.28     Friday\n",
       "5  2021-02-25  14139.73   Thursday\n",
       "6  2021-02-24  14083.04  Wednesday\n",
       "7  2021-02-23  14092.65    Tuesday\n",
       "8  2021-02-22  14118.07     Monday\n",
       "9  2021-02-19  14066.79     Friday\n",
       "10 2021-02-18  14013.51   Thursday\n",
       "11 2021-02-18  14013.51   Thursday"
      ]
     },
     "execution_count": 111,
     "metadata": {},
     "output_type": "execute_result"
    }
   ],
   "source": [
    "data = data.loc[(data['date'] >= '2021-02-01') & (data['date'] <= '2021-02-28')]\n",
    "data.head(8)"
   ]
  },
  {
   "cell_type": "code",
   "execution_count": 116,
   "metadata": {},
   "outputs": [
    {
     "ename": "TypeError",
     "evalue": "Index(...) must be called with a collection of some kind, 'ascending' was passed",
     "output_type": "error",
     "traceback": [
      "\u001b[1;31m---------------------------------------------------------------------------\u001b[0m",
      "\u001b[1;31mTypeError\u001b[0m                                 Traceback (most recent call last)",
      "\u001b[1;32m<ipython-input-116-2c78ddb76644>\u001b[0m in \u001b[0;36m<module>\u001b[1;34m\u001b[0m\n\u001b[1;32m----> 1\u001b[1;33m \u001b[0mdata\u001b[0m\u001b[1;33m.\u001b[0m\u001b[0mindex\u001b[0m \u001b[1;33m=\u001b[0m \u001b[0mdata\u001b[0m\u001b[1;33m[\u001b[0m\u001b[1;34m'date'\u001b[0m\u001b[1;33m]\u001b[0m\u001b[1;33m.\u001b[0m\u001b[0msort_values\u001b[0m\u001b[1;33m=\u001b[0m\u001b[1;34m'ascending'\u001b[0m\u001b[1;33m\u001b[0m\u001b[1;33m\u001b[0m\u001b[0m\n\u001b[0m\u001b[0;32m      2\u001b[0m \u001b[0mdata\u001b[0m\u001b[1;33m.\u001b[0m\u001b[0mindex\u001b[0m \u001b[1;33m=\u001b[0m \u001b[0mpd\u001b[0m\u001b[1;33m.\u001b[0m\u001b[0mDatetimeIndex\u001b[0m\u001b[1;33m(\u001b[0m\u001b[0mdata\u001b[0m\u001b[1;33m.\u001b[0m\u001b[0mindex\u001b[0m\u001b[1;33m)\u001b[0m\u001b[1;33m\u001b[0m\u001b[1;33m\u001b[0m\u001b[0m\n\u001b[0;32m      3\u001b[0m \u001b[0mdata\u001b[0m\u001b[1;33m\u001b[0m\u001b[1;33m\u001b[0m\u001b[0m\n",
      "\u001b[1;32mD:\\Anaconda3\\envs\\newton-dwv\\lib\\site-packages\\pandas\\core\\generic.py\u001b[0m in \u001b[0;36m__setattr__\u001b[1;34m(self, name, value)\u001b[0m\n\u001b[0;32m   5190\u001b[0m         \u001b[1;32mtry\u001b[0m\u001b[1;33m:\u001b[0m\u001b[1;33m\u001b[0m\u001b[1;33m\u001b[0m\u001b[0m\n\u001b[0;32m   5191\u001b[0m             \u001b[0mobject\u001b[0m\u001b[1;33m.\u001b[0m\u001b[0m__getattribute__\u001b[0m\u001b[1;33m(\u001b[0m\u001b[0mself\u001b[0m\u001b[1;33m,\u001b[0m \u001b[0mname\u001b[0m\u001b[1;33m)\u001b[0m\u001b[1;33m\u001b[0m\u001b[1;33m\u001b[0m\u001b[0m\n\u001b[1;32m-> 5192\u001b[1;33m             \u001b[1;32mreturn\u001b[0m \u001b[0mobject\u001b[0m\u001b[1;33m.\u001b[0m\u001b[0m__setattr__\u001b[0m\u001b[1;33m(\u001b[0m\u001b[0mself\u001b[0m\u001b[1;33m,\u001b[0m \u001b[0mname\u001b[0m\u001b[1;33m,\u001b[0m \u001b[0mvalue\u001b[0m\u001b[1;33m)\u001b[0m\u001b[1;33m\u001b[0m\u001b[1;33m\u001b[0m\u001b[0m\n\u001b[0m\u001b[0;32m   5193\u001b[0m         \u001b[1;32mexcept\u001b[0m \u001b[0mAttributeError\u001b[0m\u001b[1;33m:\u001b[0m\u001b[1;33m\u001b[0m\u001b[1;33m\u001b[0m\u001b[0m\n\u001b[0;32m   5194\u001b[0m             \u001b[1;32mpass\u001b[0m\u001b[1;33m\u001b[0m\u001b[1;33m\u001b[0m\u001b[0m\n",
      "\u001b[1;32mpandas/_libs/properties.pyx\u001b[0m in \u001b[0;36mpandas._libs.properties.AxisProperty.__set__\u001b[1;34m()\u001b[0m\n",
      "\u001b[1;32mD:\\Anaconda3\\envs\\newton-dwv\\lib\\site-packages\\pandas\\core\\generic.py\u001b[0m in \u001b[0;36m_set_axis\u001b[1;34m(self, axis, labels)\u001b[0m\n\u001b[0;32m    688\u001b[0m \u001b[1;33m\u001b[0m\u001b[0m\n\u001b[0;32m    689\u001b[0m     \u001b[1;32mdef\u001b[0m \u001b[0m_set_axis\u001b[0m\u001b[1;33m(\u001b[0m\u001b[0mself\u001b[0m\u001b[1;33m,\u001b[0m \u001b[0maxis\u001b[0m\u001b[1;33m,\u001b[0m \u001b[0mlabels\u001b[0m\u001b[1;33m)\u001b[0m\u001b[1;33m:\u001b[0m\u001b[1;33m\u001b[0m\u001b[1;33m\u001b[0m\u001b[0m\n\u001b[1;32m--> 690\u001b[1;33m         \u001b[0mself\u001b[0m\u001b[1;33m.\u001b[0m\u001b[0m_data\u001b[0m\u001b[1;33m.\u001b[0m\u001b[0mset_axis\u001b[0m\u001b[1;33m(\u001b[0m\u001b[0maxis\u001b[0m\u001b[1;33m,\u001b[0m \u001b[0mlabels\u001b[0m\u001b[1;33m)\u001b[0m\u001b[1;33m\u001b[0m\u001b[1;33m\u001b[0m\u001b[0m\n\u001b[0m\u001b[0;32m    691\u001b[0m         \u001b[0mself\u001b[0m\u001b[1;33m.\u001b[0m\u001b[0m_clear_item_cache\u001b[0m\u001b[1;33m(\u001b[0m\u001b[1;33m)\u001b[0m\u001b[1;33m\u001b[0m\u001b[1;33m\u001b[0m\u001b[0m\n\u001b[0;32m    692\u001b[0m \u001b[1;33m\u001b[0m\u001b[0m\n",
      "\u001b[1;32mD:\\Anaconda3\\envs\\newton-dwv\\lib\\site-packages\\pandas\\core\\internals\\managers.py\u001b[0m in \u001b[0;36mset_axis\u001b[1;34m(self, axis, new_labels)\u001b[0m\n\u001b[0;32m    174\u001b[0m \u001b[1;33m\u001b[0m\u001b[0m\n\u001b[0;32m    175\u001b[0m     \u001b[1;32mdef\u001b[0m \u001b[0mset_axis\u001b[0m\u001b[1;33m(\u001b[0m\u001b[0mself\u001b[0m\u001b[1;33m,\u001b[0m \u001b[0maxis\u001b[0m\u001b[1;33m,\u001b[0m \u001b[0mnew_labels\u001b[0m\u001b[1;33m)\u001b[0m\u001b[1;33m:\u001b[0m\u001b[1;33m\u001b[0m\u001b[1;33m\u001b[0m\u001b[0m\n\u001b[1;32m--> 176\u001b[1;33m         \u001b[0mnew_labels\u001b[0m \u001b[1;33m=\u001b[0m \u001b[0mensure_index\u001b[0m\u001b[1;33m(\u001b[0m\u001b[0mnew_labels\u001b[0m\u001b[1;33m)\u001b[0m\u001b[1;33m\u001b[0m\u001b[1;33m\u001b[0m\u001b[0m\n\u001b[0m\u001b[0;32m    177\u001b[0m         \u001b[0mold_len\u001b[0m \u001b[1;33m=\u001b[0m \u001b[0mlen\u001b[0m\u001b[1;33m(\u001b[0m\u001b[0mself\u001b[0m\u001b[1;33m.\u001b[0m\u001b[0maxes\u001b[0m\u001b[1;33m[\u001b[0m\u001b[0maxis\u001b[0m\u001b[1;33m]\u001b[0m\u001b[1;33m)\u001b[0m\u001b[1;33m\u001b[0m\u001b[1;33m\u001b[0m\u001b[0m\n\u001b[0;32m    178\u001b[0m         \u001b[0mnew_len\u001b[0m \u001b[1;33m=\u001b[0m \u001b[0mlen\u001b[0m\u001b[1;33m(\u001b[0m\u001b[0mnew_labels\u001b[0m\u001b[1;33m)\u001b[0m\u001b[1;33m\u001b[0m\u001b[1;33m\u001b[0m\u001b[0m\n",
      "\u001b[1;32mD:\\Anaconda3\\envs\\newton-dwv\\lib\\site-packages\\pandas\\core\\indexes\\base.py\u001b[0m in \u001b[0;36mensure_index\u001b[1;34m(index_like, copy)\u001b[0m\n\u001b[0;32m   5769\u001b[0m             \u001b[0mindex_like\u001b[0m \u001b[1;33m=\u001b[0m \u001b[0mcopy\u001b[0m\u001b[1;33m(\u001b[0m\u001b[0mindex_like\u001b[0m\u001b[1;33m)\u001b[0m\u001b[1;33m\u001b[0m\u001b[1;33m\u001b[0m\u001b[0m\n\u001b[0;32m   5770\u001b[0m \u001b[1;33m\u001b[0m\u001b[0m\n\u001b[1;32m-> 5771\u001b[1;33m     \u001b[1;32mreturn\u001b[0m \u001b[0mIndex\u001b[0m\u001b[1;33m(\u001b[0m\u001b[0mindex_like\u001b[0m\u001b[1;33m)\u001b[0m\u001b[1;33m\u001b[0m\u001b[1;33m\u001b[0m\u001b[0m\n\u001b[0m\u001b[0;32m   5772\u001b[0m \u001b[1;33m\u001b[0m\u001b[0m\n\u001b[0;32m   5773\u001b[0m \u001b[1;33m\u001b[0m\u001b[0m\n",
      "\u001b[1;32mD:\\Anaconda3\\envs\\newton-dwv\\lib\\site-packages\\pandas\\core\\indexes\\base.py\u001b[0m in \u001b[0;36m__new__\u001b[1;34m(cls, data, dtype, copy, name, fastpath, tupleize_cols, **kwargs)\u001b[0m\n\u001b[0;32m    517\u001b[0m             \u001b[1;32mreturn\u001b[0m \u001b[0mIndex\u001b[0m\u001b[1;33m(\u001b[0m\u001b[0mnp\u001b[0m\u001b[1;33m.\u001b[0m\u001b[0masarray\u001b[0m\u001b[1;33m(\u001b[0m\u001b[0mdata\u001b[0m\u001b[1;33m)\u001b[0m\u001b[1;33m,\u001b[0m \u001b[0mdtype\u001b[0m\u001b[1;33m=\u001b[0m\u001b[0mdtype\u001b[0m\u001b[1;33m,\u001b[0m \u001b[0mcopy\u001b[0m\u001b[1;33m=\u001b[0m\u001b[0mcopy\u001b[0m\u001b[1;33m,\u001b[0m \u001b[0mname\u001b[0m\u001b[1;33m=\u001b[0m\u001b[0mname\u001b[0m\u001b[1;33m,\u001b[0m \u001b[1;33m**\u001b[0m\u001b[0mkwargs\u001b[0m\u001b[1;33m)\u001b[0m\u001b[1;33m\u001b[0m\u001b[1;33m\u001b[0m\u001b[0m\n\u001b[0;32m    518\u001b[0m         \u001b[1;32melif\u001b[0m \u001b[0mdata\u001b[0m \u001b[1;32mis\u001b[0m \u001b[1;32mNone\u001b[0m \u001b[1;32mor\u001b[0m \u001b[0mis_scalar\u001b[0m\u001b[1;33m(\u001b[0m\u001b[0mdata\u001b[0m\u001b[1;33m)\u001b[0m\u001b[1;33m:\u001b[0m\u001b[1;33m\u001b[0m\u001b[1;33m\u001b[0m\u001b[0m\n\u001b[1;32m--> 519\u001b[1;33m             \u001b[0mcls\u001b[0m\u001b[1;33m.\u001b[0m\u001b[0m_scalar_data_error\u001b[0m\u001b[1;33m(\u001b[0m\u001b[0mdata\u001b[0m\u001b[1;33m)\u001b[0m\u001b[1;33m\u001b[0m\u001b[1;33m\u001b[0m\u001b[0m\n\u001b[0m\u001b[0;32m    520\u001b[0m         \u001b[1;32melse\u001b[0m\u001b[1;33m:\u001b[0m\u001b[1;33m\u001b[0m\u001b[1;33m\u001b[0m\u001b[0m\n\u001b[0;32m    521\u001b[0m             \u001b[1;32mif\u001b[0m \u001b[0mtupleize_cols\u001b[0m \u001b[1;32mand\u001b[0m \u001b[0mis_list_like\u001b[0m\u001b[1;33m(\u001b[0m\u001b[0mdata\u001b[0m\u001b[1;33m)\u001b[0m\u001b[1;33m:\u001b[0m\u001b[1;33m\u001b[0m\u001b[1;33m\u001b[0m\u001b[0m\n",
      "\u001b[1;32mD:\\Anaconda3\\envs\\newton-dwv\\lib\\site-packages\\pandas\\core\\indexes\\base.py\u001b[0m in \u001b[0;36m_scalar_data_error\u001b[1;34m(cls, data)\u001b[0m\n\u001b[0;32m   4106\u001b[0m         raise TypeError(\n\u001b[0;32m   4107\u001b[0m             \u001b[1;34m\"{0}(...) must be called with a collection of some \"\u001b[0m\u001b[1;33m\u001b[0m\u001b[1;33m\u001b[0m\u001b[0m\n\u001b[1;32m-> 4108\u001b[1;33m             \u001b[1;34m\"kind, {1} was passed\"\u001b[0m\u001b[1;33m.\u001b[0m\u001b[0mformat\u001b[0m\u001b[1;33m(\u001b[0m\u001b[0mcls\u001b[0m\u001b[1;33m.\u001b[0m\u001b[0m__name__\u001b[0m\u001b[1;33m,\u001b[0m \u001b[0mrepr\u001b[0m\u001b[1;33m(\u001b[0m\u001b[0mdata\u001b[0m\u001b[1;33m)\u001b[0m\u001b[1;33m)\u001b[0m\u001b[1;33m\u001b[0m\u001b[1;33m\u001b[0m\u001b[0m\n\u001b[0m\u001b[0;32m   4109\u001b[0m         )\n\u001b[0;32m   4110\u001b[0m \u001b[1;33m\u001b[0m\u001b[0m\n",
      "\u001b[1;31mTypeError\u001b[0m: Index(...) must be called with a collection of some kind, 'ascending' was passed"
     ]
    }
   ],
   "source": [
    "data.index = data['date'].sort_values='ascending'\n",
    "data.index = pd.DatetimeIndex(data.index)\n",
    "data"
   ]
  },
  {
   "cell_type": "markdown",
   "metadata": {},
   "source": [
    "### Implementing your webscrapping to the flask dashboard\n",
    "\n",
    "- Copy paste all of your web scrapping process to the desired position on the `app.py`\n",
    "- Changing the title of the dasboard at `index.html`"
   ]
  },
  {
   "cell_type": "markdown",
   "metadata": {},
   "source": [
    "## Finishing This Notebook with Your Analysis and Conclusion\n",
    "\n",
    "First you can do start with making the data visualisation. "
   ]
  },
  {
   "cell_type": "code",
   "execution_count": 97,
   "metadata": {
    "ExecuteTime": {
     "end_time": "2020-01-13T05:20:56.208237Z",
     "start_time": "2020-01-13T05:20:56.076043Z"
    },
    "scrolled": true
   },
   "outputs": [
    {
     "data": {
      "text/plain": [
       "<AxesSubplot:xlabel='date'>"
      ]
     },
     "execution_count": 97,
     "metadata": {},
     "output_type": "execute_result"
    },
    {
     "data": {
      "image/png": "[encoded data removed]",
      "text/plain": [
       "<Figure size 1080x360 with 1 Axes>"
      ]
     },
     "metadata": {
      "needs_background": "light"
     },
     "output_type": "display_data"
    }
   ],
   "source": [
    "data.plot(x='date',figsize = (15,5))\n"
   ]
  },
  {
   "cell_type": "markdown",
   "metadata": {},
   "source": [
    "Pada akhir tanggal 9 Feb dan 15 Feb harga terendah rupiah terhadap dollar, di akdir bulan terlihat kenaikan yg sangat tinggi"
   ]
  },
  {
   "cell_type": "markdown",
   "metadata": {},
   "source": [
    "### Extra Challange\n",
    "\n",
    "This will be not included to the scoring. \n",
    "\n",
    "- You can create additional analysis from the data.\n",
    "- Implement it to the dashboard with at `app.py` dan `index.html`."
   ]
  },
  {
   "cell_type": "code",
   "execution_count": 98,
   "metadata": {
    "scrolled": false
   },
   "outputs": [
    {
     "name": "stderr",
     "output_type": "stream",
     "text": [
      "D:\\Anaconda3\\envs\\newton-dwv\\lib\\site-packages\\pandas\\plotting\\_matplotlib\\core.py:1182: UserWarning: FixedFormatter should only be used together with FixedLocator\n",
      "  ax.set_xticklabels(xticklabels)\n"
     ]
    },
    {
     "data": {
      "text/plain": [
       "<AxesSubplot:xlabel='day'>"
      ]
     },
     "execution_count": 98,
     "metadata": {},
     "output_type": "execute_result"
    },
    {
     "data": {
      "image/png": "[encoded data removed]",
      "text/plain": [
       "<Figure size 432x288 with 1 Axes>"
      ]
     },
     "metadata": {
      "needs_background": "light"
     },
     "output_type": "display_data"
    }
   ],
   "source": [
    "data.groupby('day').mean().plot()"
   ]
  },
  {
   "cell_type": "markdown",
   "metadata": {},
   "source": [
    "Biasanya terjadi lonjakan harga di hari jumat pada bulan february 2021"
   ]
  }
 ],
 "metadata": {
  "kernelspec": {
   "display_name": "newton-dwv",
   "language": "python",
   "name": "newton-dwv"
  },
  "language_info": {
   "codemirror_mode": {
    "name": "ipython",
    "version": 3
   },
   "file_extension": ".py",
   "mimetype": "text/x-python",
   "name": "python",
   "nbconvert_exporter": "python",
   "pygments_lexer": "ipython3",
   "version": "3.7.9"
  },
  "toc": {
   "base_numbering": 1,
   "nav_menu": {},
   "number_sections": true,
   "sideBar": true,
   "skip_h1_title": false,
   "title_cell": "Table of Contents",
   "title_sidebar": "Contents",
   "toc_cell": false,
   "toc_position": {},
   "toc_section_display": true,
   "toc_window_display": false
  }
 },
 "nbformat": 4,
 "nbformat_minor": 2
}
